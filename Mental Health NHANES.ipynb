{
 "cells": [
  {
   "cell_type": "code",
   "execution_count": 4,
   "id": "f8b62ced-3687-4d48-81c4-90c582cde273",
   "metadata": {},
   "outputs": [
    {
     "name": "stdout",
     "output_type": "stream",
     "text": [
      "Requirement already satisfied: pandas in /opt/anaconda3/lib/python3.12/site-packages (2.2.2)\n",
      "Requirement already satisfied: pyreadstat in /opt/anaconda3/lib/python3.12/site-packages (1.2.8)\n",
      "Requirement already satisfied: numpy>=1.26.0 in /opt/anaconda3/lib/python3.12/site-packages (from pandas) (1.26.4)\n",
      "Requirement already satisfied: python-dateutil>=2.8.2 in /opt/anaconda3/lib/python3.12/site-packages (from pandas) (2.9.0.post0)\n",
      "Requirement already satisfied: pytz>=2020.1 in /opt/anaconda3/lib/python3.12/site-packages (from pandas) (2024.1)\n",
      "Requirement already satisfied: tzdata>=2022.7 in /opt/anaconda3/lib/python3.12/site-packages (from pandas) (2023.3)\n",
      "Requirement already satisfied: six>=1.5 in /opt/anaconda3/lib/python3.12/site-packages (from python-dateutil>=2.8.2->pandas) (1.16.0)\n",
      "Note: you may need to restart the kernel to use updated packages.\n"
     ]
    }
   ],
   "source": [
    "pip install pandas pyreadstat"
   ]
  },
  {
   "cell_type": "code",
   "execution_count": 62,
   "id": "fa02496c-f09f-4108-9286-4eccb6281f90",
   "metadata": {},
   "outputs": [
    {
     "name": "stdout",
     "output_type": "stream",
     "text": [
      "P_ECQ_2017-2020-pre: (5365, 10)\n",
      "P_DPQ_2017-2020-pre: (8965, 11)\n",
      "P_ALQ_2017-2020-pre: (8965, 10)\n",
      "P_DEMO_2017-2020-pre: (15560, 29)\n",
      "DPQ_L_2021-2023: (6337, 11)\n",
      "ECQ_L_2021-2023: (3432, 7)\n",
      "ALQ_L_2021-2023: (6337, 9)\n",
      "DEMO_L_2021-2023: (11933, 27)\n"
     ]
    }
   ],
   "source": [
    "import pandas as pd\n",
    "import os\n",
    "\n",
    "# File paths to years 2013-2023 for demographic, depression, early childhood and alcohol use surveys \n",
    "# from CDC website \"National Health and Nutrition Examenation Survey\"\n",
    "file_paths = [\n",
    "    \"P_ECQ_2017-2020-pre.xpt\", \"P_DPQ_2017-2020-pre.xpt\", \n",
    "    \"P_ALQ_2017-2020-pre.xpt\", \"P_DEMO_2017-2020-pre.xpt\", \n",
    "    \"DPQ_L_2021-2023.xpt\", \"ECQ_L_2021-2023.xpt\",\n",
    "    \"ALQ_L_2021-2023.xpt\", \"DEMO_L_2021-2023.xpt\"\n",
    "]\n",
    "\n",
    "# Load each file into dictionary of DataFrames\n",
    "dataframes = {}\n",
    "for file in file_paths:\n",
    "    key = os.path.splitext(os.path.basename(file))[0]  # Use filename as key\n",
    "    dataframes[key] = pd.read_sas(file, format=\"xport\")\n",
    "\n",
    "# Check loaded files\n",
    "for key, df in dataframes.items():\n",
    "    print(f\"{key}: {df.shape}\")\n"
   ]
  },
  {
   "cell_type": "code",
   "execution_count": 42,
   "id": "b0049e8b-f4c0-4cae-a7a0-9bc952f50e40",
   "metadata": {},
   "outputs": [
    {
     "name": "stdout",
     "output_type": "stream",
     "text": [
      "(8965, 57)\n",
      "       SEQN  SDDSRVYR  RIDSTATR  RIAGENDR  RIDAGEYR  RIDAGEMN  RIDRETH1  \\\n",
      "0  109266.0      66.0       2.0       2.0      29.0       NaN       5.0   \n",
      "1  109271.0      66.0       2.0       1.0      49.0       NaN       3.0   \n",
      "2  109273.0      66.0       2.0       1.0      36.0       NaN       3.0   \n",
      "3  109274.0      66.0       2.0       1.0      68.0       NaN       5.0   \n",
      "4  109282.0      66.0       2.0       1.0      76.0       NaN       3.0   \n",
      "\n",
      "   RIDRETH3  RIDEXMON  DMDBORN4  ...        ALQ170  ECD010  ECQ020  ECD070A  \\\n",
      "0       6.0       2.0       2.0  ...  5.397605e-79     NaN     NaN      NaN   \n",
      "1       3.0       2.0       1.0  ...           NaN     NaN     NaN      NaN   \n",
      "2       3.0       2.0       1.0  ...           NaN     NaN     NaN      NaN   \n",
      "3       7.0       1.0       1.0  ...  5.397605e-79     NaN     NaN      NaN   \n",
      "4       3.0       2.0       1.0  ...           NaN     NaN     NaN      NaN   \n",
      "\n",
      "   ECD070B  ECQ080  ECQ090  WHQ030E  MCQ080E  ECQ150  \n",
      "0      NaN     NaN     NaN      NaN      NaN     NaN  \n",
      "1      NaN     NaN     NaN      NaN      NaN     NaN  \n",
      "2      NaN     NaN     NaN      NaN      NaN     NaN  \n",
      "3      NaN     NaN     NaN      NaN      NaN     NaN  \n",
      "4      NaN     NaN     NaN      NaN      NaN     NaN  \n",
      "\n",
      "[5 rows x 57 columns]\n",
      "(6337, 51)\n",
      "       SEQN  SDDSRVYR  RIDSTATR  RIAGENDR  RIDAGEYR  RIDAGEMN  RIDRETH1  \\\n",
      "0  130378.0      12.0       2.0       1.0      43.0       NaN       5.0   \n",
      "1  130379.0      12.0       2.0       1.0      66.0       NaN       3.0   \n",
      "2  130380.0      12.0       2.0       2.0      44.0       NaN       2.0   \n",
      "3  130386.0      12.0       2.0       1.0      34.0       NaN       1.0   \n",
      "4  130387.0      12.0       2.0       2.0      68.0       NaN       3.0   \n",
      "\n",
      "   RIDRETH3  RIDEXMON  RIDEXAGM  ...        ALQ270  ALQ280  ALQ151  \\\n",
      "0       6.0       2.0       NaN  ...           NaN     NaN     NaN   \n",
      "1       3.0       2.0       NaN  ...           NaN     NaN     2.0   \n",
      "2       2.0       1.0       NaN  ...           NaN     NaN     2.0   \n",
      "3       1.0       1.0       NaN  ...  5.397605e-79    10.0     2.0   \n",
      "4       3.0       2.0       NaN  ...           NaN     NaN     2.0   \n",
      "\n",
      "         ALQ170  ECD070A  ECD070B  ECQ080  ECQ090  WHQ030E  MCQ080E  \n",
      "0           NaN      NaN      NaN     NaN     NaN      NaN      NaN  \n",
      "1           NaN      NaN      NaN     NaN     NaN      NaN      NaN  \n",
      "2           NaN      NaN      NaN     NaN     NaN      NaN      NaN  \n",
      "3  5.397605e-79      NaN      NaN     NaN     NaN      NaN      NaN  \n",
      "4           NaN      NaN      NaN     NaN     NaN      NaN      NaN  \n",
      "\n",
      "[5 rows x 51 columns]\n"
     ]
    }
   ],
   "source": [
    "# Merge 2017-2020 files\n",
    "dpq_2017 = dataframes['P_DPQ_2017-2020-pre']\n",
    "alq_2017 = dataframes['P_ALQ_2017-2020-pre']\n",
    "ecq_2017 = dataframes['P_ECQ_2017-2020-pre']\n",
    "demo_2017 = dataframes['P_DEMO_2017-2020-pre']\n",
    "\n",
    "  \n",
    "# Merge using SEQN\n",
    "merged_2017 = demo_2017.merge(dpq_2017, on=\"SEQN\", how=\"inner\") \\\n",
    "                       .merge(alq_2017, on=\"SEQN\", how=\"left\") \\\n",
    "                       .merge(ecq_2017, on=\"SEQN\", how=\"left\")\n",
    "\n",
    "print(merged_2017.shape)\n",
    "print(merged_2017.head())\n",
    "\n",
    "# Merge 2021-2023 files\n",
    "dpq_2021 = dataframes['DPQ_L_2021-2023']\n",
    "alq_2021 = dataframes['ALQ_L_2021-2023']\n",
    "ecq_2021 = dataframes['ECQ_L_2021-2023']\n",
    "demo_2021 = dataframes['DEMO_L_2021-2023']\n",
    "\n",
    "\n",
    "  \n",
    "# Merge using SEQN\n",
    "merged_2021 = demo_2021.merge(dpq_2021, on=\"SEQN\", how=\"inner\") \\\n",
    "                       .merge(alq_2021, on=\"SEQN\", how=\"left\") \\\n",
    "                       .merge(ecq_2021, on=\"SEQN\", how=\"left\")\n",
    "\n",
    "print(merged_2021.shape)\n",
    "print(merged_2021.head())"
   ]
  },
  {
   "cell_type": "code",
   "execution_count": null,
   "id": "6b4229a5-8eb6-4377-930f-0e1cfa66c1bb",
   "metadata": {},
   "outputs": [],
   "source": []
  },
  {
   "cell_type": "code",
   "execution_count": 63,
   "id": "3a80f3b4-c1df-4031-8b84-402244c4bb6a",
   "metadata": {},
   "outputs": [
    {
     "name": "stdout",
     "output_type": "stream",
     "text": [
      "(15302, 68)\n",
      "       SEQN  SDDSRVYR  RIDSTATR  RIAGENDR  RIDAGEYR  RIDAGEMN  RIDRETH1  \\\n",
      "0  109266.0      66.0       2.0       2.0      29.0       NaN       5.0   \n",
      "1  109271.0      66.0       2.0       1.0      49.0       NaN       3.0   \n",
      "2  109273.0      66.0       2.0       1.0      36.0       NaN       3.0   \n",
      "3  109274.0      66.0       2.0       1.0      68.0       NaN       5.0   \n",
      "4  109282.0      66.0       2.0       1.0      76.0       NaN       3.0   \n",
      "\n",
      "   RIDRETH3  RIDEXMON  DMDBORN4  ...  DMQMILIZ  DMDYRUSR  DMDHHSIZ  DMDHRGND  \\\n",
      "0       6.0       2.0       2.0  ...       NaN       NaN       NaN       NaN   \n",
      "1       3.0       2.0       1.0  ...       NaN       NaN       NaN       NaN   \n",
      "2       3.0       2.0       1.0  ...       NaN       NaN       NaN       NaN   \n",
      "3       7.0       1.0       1.0  ...       NaN       NaN       NaN       NaN   \n",
      "4       3.0       2.0       1.0  ...       NaN       NaN       NaN       NaN   \n",
      "\n",
      "   DMDHRAGZ  DMDHREDZ  DMDHRMAZ  DMDHSEDZ  WTINT2YR  WTMEC2YR  \n",
      "0       NaN       NaN       NaN       NaN       NaN       NaN  \n",
      "1       NaN       NaN       NaN       NaN       NaN       NaN  \n",
      "2       NaN       NaN       NaN       NaN       NaN       NaN  \n",
      "3       NaN       NaN       NaN       NaN       NaN       NaN  \n",
      "4       NaN       NaN       NaN       NaN       NaN       NaN  \n",
      "\n",
      "[5 rows x 68 columns]\n"
     ]
    }
   ],
   "source": [
    "# Combine all year blocks\n",
    "combined_df = pd.concat([merged_2017, merged_2021], ignore_index=True)\n",
    "\n",
    "# Check combined dataset\n",
    "print(combined_df.shape)\n",
    "print(combined_df.head())\n"
   ]
  },
  {
   "cell_type": "code",
   "execution_count": 70,
   "id": "64523746-1118-41e1-8ad0-03621f7eaa33",
   "metadata": {},
   "outputs": [],
   "source": [
    "# Make original column readable using codebooks\n",
    "column_mapping = {\n",
    "    'SEQN': 'Respondent sequence number',\n",
    "    'SDDSRVYR': 'Data release cycle',\n",
    "    'RIDSTATR': 'Interview/Examination status',\n",
    "    'RIAGENDR': 'Gender',\n",
    "    'RIDAGEYR': 'Age in years at screening',\n",
    "    'RIDAGEMN': 'Age in months at screening (0-24 months)',\n",
    "    'RIDRETH1': 'Race/Hispanic origin',\n",
    "    'RIDRETH3': 'Race/Hispanic origin with NH Asian',\n",
    "    'RIDEXMON': 'Six-month time period',\n",
    "    'RIDEXAGM': 'Age in months at exam (0-19 years)',\n",
    "    'DMQMILIZ': 'Served active duty in US Armed Forces',\n",
    "    'DMDBORN4': 'Country of birth',\n",
    "    'DMDYRUSR': 'Length of time in US',\n",
    "    'DMDEDUC2': 'Education level (Adults 20+)',\n",
    "    'DMDMARTZ': 'Marital status',\n",
    "    'RIDEXPRG': 'Pregnancy status at exam',\n",
    "    'DMDHHSIZ': 'Total number of people in the household',\n",
    "    'DMDHRGND': 'Household reference person’s gender',\n",
    "    'DMDHRAGZ': 'Household reference person’s age in years',\n",
    "    'DMDHREDZ': 'Household reference person’s education level',\n",
    "    'DMDHRMAZ': 'Household reference person’s marital status',\n",
    "    'DMDHSEDZ': 'Household reference person’s spouse’s education level',\n",
    "    'WTINT2YR': 'Full sample 2-year interview weight',\n",
    "    'WTMEC2YR': 'Full sample 2-year MEC exam weight',\n",
    "    'SDMVSTRA': 'Masked variance pseudo-stratum',\n",
    "    'SDMVPSU': 'Masked variance pseudo-PSU',\n",
    "    'INDFMPIR': 'Ratio of family income to poverty',\n",
    "    'ALQ111': 'Ever had a drink of any kind of alcohol',\n",
    "    'ALQ121': 'Past 12 months how often drink alcohol beverage',\n",
    "    'ALQ130': 'Average number of alcoholic drinks/day in past 12 months',\n",
    "    'ALQ142': 'Number of days had 4/5 drinks in past 12 months',\n",
    "    'ALQ270': 'Number of times had 4/5 drinks in 2 hours (past 12 months)',\n",
    "    'ALQ280': 'Number of times had 8+ drinks in 1 day (past 12 months)',\n",
    "    'ALQ151': 'Ever had 4/5 or more drinks every day',\n",
    "    'ALQ170': 'Number of times had 4/5 drinks on occasion (past month)',\n",
    "    'DPQ010': 'Little interest in doing things',\n",
    "    'DPQ020': 'Feeling down, depressed, or hopeless',\n",
    "    'DPQ030': 'Trouble sleeping or sleeping too much',\n",
    "    'DPQ040': 'Feeling tired or having little energy',\n",
    "    'DPQ050': 'Poor appetite or overeating',\n",
    "    'DPQ060': 'Feeling bad about yourself',\n",
    "    'DPQ070': 'Trouble concentrating on things',\n",
    "    'DPQ080': 'Moving or speaking slowly or too fast',\n",
    "    'DPQ090': 'Thought you would be better off dead',\n",
    "    'DPQ100': 'Difficulty these problems have caused',\n",
    "}\n"
   ]
  },
  {
   "cell_type": "code",
   "execution_count": null,
   "id": "913b3d6a-413f-40e7-9a43-bd810e205458",
   "metadata": {},
   "outputs": [],
   "source": []
  },
  {
   "cell_type": "code",
   "execution_count": null,
   "id": "8a07c08d-20a5-4a88-91a0-713d00d305c2",
   "metadata": {},
   "outputs": [],
   "source": []
  },
  {
   "cell_type": "code",
   "execution_count": null,
   "id": "350da451-dccf-4ff9-a03a-ea8bedce632e",
   "metadata": {},
   "outputs": [],
   "source": [
    "\n"
   ]
  },
  {
   "cell_type": "code",
   "execution_count": null,
   "id": "a6f9c29e-1211-47d7-ac5f-c01abddb6dc9",
   "metadata": {},
   "outputs": [],
   "source": [
    "\n"
   ]
  },
  {
   "cell_type": "code",
   "execution_count": null,
   "id": "6e53c777-82b5-4981-88fb-6f5b824170a6",
   "metadata": {},
   "outputs": [],
   "source": []
  },
  {
   "cell_type": "code",
   "execution_count": null,
   "id": "103d9ce9-bfff-4a18-b003-58e0c7c307fc",
   "metadata": {},
   "outputs": [],
   "source": [
    "\n",
    "\n"
   ]
  },
  {
   "cell_type": "code",
   "execution_count": null,
   "id": "d66c610b-b57f-45c7-b915-2942eaf9c39b",
   "metadata": {},
   "outputs": [],
   "source": []
  }
 ],
 "metadata": {
  "kernelspec": {
   "display_name": "Python 3 (ipykernel)",
   "language": "python",
   "name": "python3"
  },
  "language_info": {
   "codemirror_mode": {
    "name": "ipython",
    "version": 3
   },
   "file_extension": ".py",
   "mimetype": "text/x-python",
   "name": "python",
   "nbconvert_exporter": "python",
   "pygments_lexer": "ipython3",
   "version": "3.12.4"
  }
 },
 "nbformat": 4,
 "nbformat_minor": 5
}
